{
 "cells": [
  {
   "cell_type": "markdown",
   "id": "combined-coating",
   "metadata": {},
   "source": [
    "## data mining\n"
   ]
  },
  {
   "cell_type": "code",
   "execution_count": null,
   "id": "bridal-somalia",
   "metadata": {},
   "outputs": [],
   "source": [
    "import pandas as pd\n",
    "import numpy as np\n",
    "from sklearn.neighbors import LocalOutlierFactor\n",
    "\n",
    "data_filt = pd.read_pickle('data/data_filt.pkl')\n",
    "\n",
    "plottableVars = ['DF/F (1 AP)', 'DF/F (3 AP)', 'DF/F (10 AP)', 'DF/F (160 AP)',\n",
    "       'Half-rise time (1 AP)', 'Half-rise time (3 AP)', 'Half-rise time (10 AP)', 'Half-rise time (160 AP)',\n",
    "       'Time to peak (1 AP)', 'Time to peak (3 AP)', 'Time to peak (10 AP)',\n",
    "       'Time to peak (160 AP)', 'Half-decay time (1 AP)', 'Half-decay time (3 AP)',\n",
    "       'Half-decay time (10 AP)', 'Half-decay time (160 AP)', \n",
    "       'SNR (1 AP)', 'SNR (3 AP)', 'SNR (10 AP)', 'SNR (160 AP)',\n",
    "       'Norm. F0']\n",
    "data_filt = data_filt[plottableVars]"
   ]
  },
  {
   "cell_type": "code",
   "execution_count": null,
   "id": "solid-allowance",
   "metadata": {},
   "outputs": [],
   "source": [
    "clf = LocalOutlierFactor(n_neighbors=20, contamination=0.1)\n",
    "y_pred = clf.fit_predict(data_filt)\n",
    "X_scores = clf.negative_outlier_factor_\n",
    "data_filt['outlier score'] = (X_scores.max() - X_scores) / (X_scores.max() - X_scores.min())\n",
    "data_filt.sort_values(by='outlier score').tail(20)"
   ]
  },
  {
   "cell_type": "code",
   "execution_count": null,
   "id": "reduced-heading",
   "metadata": {},
   "outputs": [],
   "source": [
    "data_filt.sample(3)"
   ]
  },
  {
   "cell_type": "code",
   "execution_count": null,
   "id": "packed-sydney",
   "metadata": {},
   "outputs": [],
   "source": []
  }
 ],
 "metadata": {
  "kernelspec": {
   "display_name": "Python 3",
   "language": "python",
   "name": "python3"
  },
  "language_info": {
   "codemirror_mode": {
    "name": "ipython",
    "version": 3
   },
   "file_extension": ".py",
   "mimetype": "text/x-python",
   "name": "python",
   "nbconvert_exporter": "python",
   "pygments_lexer": "ipython3",
   "version": "3.8.5"
  }
 },
 "nbformat": 4,
 "nbformat_minor": 5
}
