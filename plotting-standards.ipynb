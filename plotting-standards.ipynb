{
 "cells": [
  {
   "cell_type": "markdown",
   "id": "under-decline",
   "metadata": {},
   "source": [
    "### Standards for plots for jGCaMP8 paper\n",
    "\n",
    "Plot the sensors in the following order: \n",
    "\n",
    " 1. jGCaMP8f\n",
    " 2. jGCaMP8m\n",
    " 3. jGCaMP8s\n",
    " 4. GCaMP6s (if applicable)\n",
    " 5. jGCaMP7f (if applicable)\n",
    " 6. jGCaMP7s (if applicable)\n",
    " 7. XCaMP-Gf (if applicable)"
   ]
  },
  {
   "cell_type": "code",
   "execution_count": 110,
   "id": "automated-price",
   "metadata": {},
   "outputs": [
    {
     "data": {
      "text/html": [
       "<div>\n",
       "<style scoped>\n",
       "    .dataframe tbody tr th:only-of-type {\n",
       "        vertical-align: middle;\n",
       "    }\n",
       "\n",
       "    .dataframe tbody tr th {\n",
       "        vertical-align: top;\n",
       "    }\n",
       "\n",
       "    .dataframe thead th {\n",
       "        text-align: right;\n",
       "    }\n",
       "</style>\n",
       "<table border=\"1\" class=\"dataframe\">\n",
       "  <thead>\n",
       "    <tr style=\"text-align: right;\">\n",
       "      <th></th>\n",
       "      <th>construct</th>\n",
       "      <th>value</th>\n",
       "    </tr>\n",
       "  </thead>\n",
       "  <tbody>\n",
       "    <tr>\n",
       "      <th>0</th>\n",
       "      <td>jGCaMP8f</td>\n",
       "      <td>0.374540</td>\n",
       "    </tr>\n",
       "    <tr>\n",
       "      <th>1</th>\n",
       "      <td>jGCaMP8f</td>\n",
       "      <td>0.950714</td>\n",
       "    </tr>\n",
       "    <tr>\n",
       "      <th>2</th>\n",
       "      <td>jGCaMP8f</td>\n",
       "      <td>0.731994</td>\n",
       "    </tr>\n",
       "    <tr>\n",
       "      <th>3</th>\n",
       "      <td>jGCaMP8f</td>\n",
       "      <td>0.598658</td>\n",
       "    </tr>\n",
       "    <tr>\n",
       "      <th>4</th>\n",
       "      <td>jGCaMP8f</td>\n",
       "      <td>0.156019</td>\n",
       "    </tr>\n",
       "  </tbody>\n",
       "</table>\n",
       "</div>"
      ],
      "text/plain": [
       "  construct     value\n",
       "0  jGCaMP8f  0.374540\n",
       "1  jGCaMP8f  0.950714\n",
       "2  jGCaMP8f  0.731994\n",
       "3  jGCaMP8f  0.598658\n",
       "4  jGCaMP8f  0.156019"
      ]
     },
     "execution_count": 110,
     "metadata": {},
     "output_type": "execute_result"
    }
   ],
   "source": [
    "'''\n",
    "make mock dataset\n",
    "'''\n",
    "import seaborn as sns\n",
    "import matplotlib.pyplot as plt\n",
    "import numpy as np\n",
    "import pandas as pd\n",
    "\n",
    "tips = sns.load_dataset(\"tips\")\n",
    "hits_label = ['jGCaMP8f', 'jGCaMP8m', 'jGCaMP8s', 'GCaMP6s', 'jGCaMP7f', 'jGCaMP7s', 'XCaMP-Gf']\n",
    "hits_colors = ['#0000ff',  '#ff0000', '#666666',  '#FFD670', '#00ff00',  '#E5A4CB',  '#0099ff']\n",
    "\n",
    "np.random.seed(42)\n",
    "\n",
    "data = pd.DataFrame()\n",
    "\n",
    "# populate mock dataframe with random values + a few outliers\n",
    "addition = 0\n",
    "for hit in hits_label:\n",
    "    data[hit] = np.concatenate([np.random.random(50), np.random.uniform(low=0, high=3,size=5)]) + addition\n",
    "    addition+=.3\n",
    "\n",
    "data = pd.melt(data, var_name='construct')\n",
    "\n",
    "data.head()"
   ]
  },
  {
   "cell_type": "markdown",
   "id": "cf571c4d",
   "metadata": {},
   "source": [
    "### box plots with fewer than ~50 points\n",
    "\n",
    "Combination of stripplot and boxplot, showing all points"
   ]
  },
  {
   "cell_type": "code",
   "execution_count": 111,
   "id": "eastern-russia",
   "metadata": {
    "scrolled": true
   },
   "outputs": [
    {
     "data": {
      "image/png": "[encoded data removed]",
      "text/plain": [
       "<Figure size 432x288 with 1 Axes>"
      ]
     },
     "metadata": {
      "needs_background": "light"
     },
     "output_type": "display_data"
    }
   ],
   "source": [
    "\n",
    "ax = sns.stripplot(x=\"construct\",\n",
    "                   y='value', \n",
    "                   data=data, \n",
    "                   order = hits_label, \n",
    "                   size=5,\n",
    "                   alpha=0.5,\n",
    "                  #zorder=1,\n",
    "                  color='darkgray')\n",
    "sns.boxplot(ax=ax,x=\"construct\", \n",
    "                 y='value', \n",
    "                 data=data, \n",
    "                 order = hits_label, \n",
    "                 showfliers=False, \n",
    "                 linewidth=2,\n",
    "                 width=.5,\n",
    "                 #zorder=100,\n",
    "                 palette = hits_colors,\n",
    "                )\n",
    "\n",
    "ax.set_xticklabels(hits_label,rotation=45)\n",
    "\n",
    "pass"
   ]
  },
  {
   "cell_type": "markdown",
   "id": "f2e4e02d",
   "metadata": {},
   "source": [
    "### box plots with >50 points\n",
    "\n",
    "Boxplot with outlier markers"
   ]
  },
  {
   "cell_type": "code",
   "execution_count": 112,
   "id": "20b63461",
   "metadata": {},
   "outputs": [
    {
     "data": {
      "image/png": "[encoded data removed]",
      "text/plain": [
       "<Figure size 432x288 with 1 Axes>"
      ]
     },
     "metadata": {
      "needs_background": "light"
     },
     "output_type": "display_data"
    }
   ],
   "source": [
    "\n",
    "ax2 = sns.boxplot(x=\"construct\", \n",
    "                 y='value', \n",
    "                 data=data, \n",
    "                 order = hits_label, \n",
    "                 showfliers=True,\n",
    "                 fliersize=3,\n",
    "                 linewidth=2,\n",
    "                 width=.5,\n",
    "                 #zorder=100,\n",
    "                 palette = hits_colors,\n",
    "                 flierprops = {'marker': 'o',\n",
    "                               'markeredgecolor':'none',\n",
    "                               'markerfacecolor':'darkgray'}\n",
    "                )\n",
    "\n",
    "ax2.set_xticklabels(hits_label,rotation=45)\n",
    "pass"
   ]
  }
 ],
 "metadata": {
  "kernelspec": {
   "display_name": "Python 3",
   "language": "python",
   "name": "python3"
  },
  "language_info": {
   "codemirror_mode": {
    "name": "ipython",
    "version": 3
   },
   "file_extension": ".py",
   "mimetype": "text/x-python",
   "name": "python",
   "nbconvert_exporter": "python",
   "pygments_lexer": "ipython3",
   "version": "3.8.8"
  }
 },
 "nbformat": 4,
 "nbformat_minor": 5
}
