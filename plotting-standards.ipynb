{
 "cells": [
  {
   "cell_type": "markdown",
   "id": "under-decline",
   "metadata": {},
   "source": [
    "### Standards for plots for jGCaMP8 paper\n",
    "\n",
    "Plot the sensors in the following order: \n",
    " 1. jGCaMP8f\n",
    " 2. jGCaMP8m\n",
    " 3. jGCaMP8s\n",
    " 4. GCaMP6s (if applicable)\n",
    " 5. jGCaMP7f (if applicable)\n",
    " 6. jGCaMP7s (if applicable)\n",
    " 7. XCaMP-Gf (if applicable)"
   ]
  },
  {
   "cell_type": "code",
   "execution_count": null,
   "id": "automated-price",
   "metadata": {},
   "outputs": [],
   "source": [
    "'''\n",
    "make mock dataset\n",
    "'''\n",
    "import seaborn as sns\n",
    "import matplotlib.pyplot as plt\n",
    "import numpy as np\n",
    "import pandas as pd\n",
    "\n",
    "tips = sns.load_dataset(\"tips\")\n",
    "hits_label = ['jGCaMP8f', 'jGCaMP8m', 'jGCaMP8s', 'GCaMP6s', 'jGCaMP7f', 'jGCaMP7s', 'XCaMP-Gf']\n",
    "hits_colors = ['#0000ff',  '#ff0000', '#666666',  '#FFD670', '#00ff00',  '#E5A4CB',  '#0099ff']\n",
    "sns.set_palette(sns.color_palette(hits_colors))\n",
    "\n",
    "np.random.seed(42)\n",
    "\n",
    "data = pd.DataFrame()\n",
    "\n",
    "# populate mock dataframe with random values + a few outliers\n",
    "addition = 0\n",
    "for hit in hits_label:\n",
    "    data[hit] = np.concatenate([np.random.random(50), np.random.uniform(low=0, high=3,size=5)]) + addition\n",
    "    addition+=.3\n",
    "\n",
    "data = pd.melt(data, var_name='construct')\n",
    "\n",
    "data.head()"
   ]
  },
  {
   "cell_type": "markdown",
   "id": "ba5c8665",
   "metadata": {},
   "source": [
    "### box plots with fewer than ~50 points\n",
    "\n",
    "Combination of stripplot and boxplot, showing all points"
   ]
  },
  {
   "cell_type": "code",
   "execution_count": null,
   "id": "eastern-russia",
   "metadata": {
    "scrolled": true
   },
   "outputs": [],
   "source": [
    "\n",
    "ax = sns.stripplot(x=\"construct\",\n",
    "                   y='value', \n",
    "                   data=data, \n",
    "                   order = hits_label, \n",
    "                   size=5,\n",
    "                  #zorder=1,\n",
    "                  color='darkgray')\n",
    "sns.boxplot(ax=ax,x=\"construct\", \n",
    "                 y='value', \n",
    "                 data=data, \n",
    "                 order = hits_label, \n",
    "                 showfliers=False, \n",
    "                 linewidth=3,\n",
    "                 width=.5,\n",
    "                 #zorder=100,\n",
    "                 palette = hits_colors,\n",
    "                 # boxprops={ \"zorder\":100}\n",
    "                )\n",
    "\n",
    "ax.set_xticklabels(hits_label,rotation=45)\n",
    "\n",
    "# original\n",
    "'''\n",
    "ax = sns.stripplot(x=\"construct\",\n",
    "                   y='value', \n",
    "                   data=data, \n",
    "                   order = hits_label, \n",
    "                   size=5,\n",
    "                  zorder=1)\n",
    "ax = sns.boxplot(x=\"construct\", \n",
    "                 y='value', \n",
    "                 data=data, \n",
    "                 order = hits_label, \n",
    "                 showfliers=False, \n",
    "                 color='darkgray',\n",
    "                 linewidth=3,\n",
    "                 width=.5,\n",
    "                 zorder=100,\n",
    "                 boxprops={'facecolor':'None', \"zorder\":10}\n",
    "                )\n",
    "'''\n",
    "pass"
   ]
  },
  {
   "cell_type": "markdown",
   "id": "0af07c2a",
   "metadata": {},
   "source": [
    "### box plots with >50 points\n",
    "\n",
    "Boxplot with outlier markers"
   ]
  },
  {
   "cell_type": "code",
   "execution_count": null,
   "id": "ff180f0b",
   "metadata": {},
   "outputs": [],
   "source": [
    "\n",
    "ax2 = sns.boxplot(x=\"construct\", \n",
    "                 y='value', \n",
    "                 data=data, \n",
    "                 order = hits_label, \n",
    "                 showfliers=True,\n",
    "                 fliersize=3,\n",
    "                 linewidth=3,\n",
    "                 width=.5,\n",
    "                 #zorder=100,\n",
    "                 palette = hits_colors,\n",
    "                )\n",
    "\n",
    "ax2.set_xticklabels(hits_label,rotation=45)\n",
    "pass"
   ]
  }
 ],
 "metadata": {
  "kernelspec": {
   "display_name": "Python 3",
   "language": "python",
   "name": "python3"
  },
  "language_info": {
   "codemirror_mode": {
    "name": "ipython",
    "version": 3
   },
   "file_extension": ".py",
   "mimetype": "text/x-python",
   "name": "python",
   "nbconvert_exporter": "python",
   "pygments_lexer": "ipython3",
   "version": "3.8.8"
  }
 },
 "nbformat": 4,
 "nbformat_minor": 5
}
